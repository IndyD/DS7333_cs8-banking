{
 "cells": [
  {
   "cell_type": "code",
   "execution_count": 1,
   "metadata": {},
   "outputs": [],
   "source": [
    "import itertools\n",
    "import pandas as pd\n",
    "import xgboost as xgb\n",
    "from sklearn.metrics import accuracy_score, f1_score, roc_auc_score, log_loss\n",
    "from sklearn.model_selection import train_test_split\n",
    "import matplotlib.pyplot as plt\n",
    "import numpy as np\n",
    "from sklearn.metrics import log_loss, accuracy_score\n",
    "from sklearn.svm import LinearSVC\n",
    "from sklearn.ensemble import RandomForestClassifier\n",
    "from sklearn.model_selection import KFold\n",
    "\n",
    "import pdb"
   ]
  },
  {
   "cell_type": "code",
   "execution_count": 18,
   "metadata": {},
   "outputs": [],
   "source": [
    "data = pd.read_csv('case_8.csv')\n",
    "## test the code with a subset of the data\n",
    "data = data[0:100]\n",
    "target = data['target']\n",
    "data.drop(['target', 'ID'],inplace=True, axis=1)"
   ]
  },
  {
   "cell_type": "code",
   "execution_count": 19,
   "metadata": {},
   "outputs": [
    {
     "data": {
      "text/plain": [
       "{'v22': 95, 'v56': 33, 'v125': 48}"
      ]
     },
     "execution_count": 19,
     "metadata": {},
     "output_type": "execute_result"
    }
   ],
   "source": [
    "### Find cols with over 20 categories \n",
    "cat_data = data.loc[:, data.dtypes == object]\n",
    "\n",
    "col_bin_candidates = dict()\n",
    "for col in cat_data:\n",
    "    category_count = len(data[col].value_counts())\n",
    "    if category_count > 20:\n",
    "        col_bin_candidates[col] = category_count\n",
    "        \n",
    "col_bin_candidates"
   ]
  },
  {
   "cell_type": "markdown",
   "metadata": {},
   "source": [
    "The first step in processing the data is splitting the target column out and droping the `ID` column which adds no value to the analysis. Once this is done, an investigation is done for any categorical columns that contains a high number of categories. The categorical column counts show that column `v22` has 18210 distinct values. \n",
    "\n",
    "This can be a problem after one hot encoding as will be done farther in the analysis because it would lead to a very large, sparse matrix. In the next code block the counts for categorical variables with over 20 categories are plotted."
   ]
  },
  {
   "cell_type": "code",
   "execution_count": 20,
   "metadata": {},
   "outputs": [
    {
     "data": {
      "image/png": "[encoded data removed]",
      "text/plain": [
       "<Figure size 432x288 with 1 Axes>"
      ]
     },
     "metadata": {
      "needs_background": "light"
     },
     "output_type": "display_data"
    },
    {
     "data": {
      "image/png": "[encoded data removed]",
      "text/plain": [
       "<Figure size 432x288 with 1 Axes>"
      ]
     },
     "metadata": {
      "needs_background": "light"
     },
     "output_type": "display_data"
    },
    {
     "data": {
      "image/png": "[encoded data removed]",
      "text/plain": [
       "<Figure size 432x288 with 1 Axes>"
      ]
     },
     "metadata": {
      "needs_background": "light"
     },
     "output_type": "display_data"
    }
   ],
   "source": [
    "### Visualized values for cols with over 10 categories\n",
    "for col in col_bin_candidates:\n",
    "    counts = data[col].value_counts().to_frame()\n",
    "    \n",
    "    fig = plt.figure()\n",
    "    if len(counts) < 50:\n",
    "        plt.title(\"{c} Bar Char\".format(c=col)) \n",
    "        plt.bar(counts.index, counts[col])\n",
    "    else:\n",
    "        plt.title(\"{c} Histogram\".format(c=col)) \n",
    "        plt.hist(counts[col])"
   ]
  },
  {
   "cell_type": "markdown",
   "metadata": {},
   "source": [
    "In the bar charts above it seems that columns `v22` and `v113` don't have an excessive number of categories and have some spread so will be kept unaltered. Column `v125` has over 100 categories but many appear to have at least 1000 samples so this column will also be kept as unaltered. Columns `v56` and `v22` have a large categories of users with a relatively low number of users and will likely need binning. "
   ]
  },
  {
   "cell_type": "code",
   "execution_count": 21,
   "metadata": {},
   "outputs": [
    {
     "data": {
      "text/plain": [
       "AGDF    4\n",
       "QKP     2\n",
       "VZF     2\n",
       "XDX     1\n",
       "QU      1\n",
       "QHQ     1\n",
       "BMF     1\n",
       "IEE     1\n",
       "JOF     1\n",
       "AV      1\n",
       "ADDF    1\n",
       "YGJ     1\n",
       "NKE     1\n",
       "AYX     1\n",
       "ACTZ    1\n",
       "VVI     1\n",
       "FLR     1\n",
       "ABQS    1\n",
       "KEM     1\n",
       "AHPP    1\n",
       "AGXX    1\n",
       "PWR     1\n",
       "DOB     1\n",
       "IIP     1\n",
       "AGVV    1\n",
       "QKI     1\n",
       "GOI     1\n",
       "RHD     1\n",
       "CBS     1\n",
       "MQE     1\n",
       "ABJD    1\n",
       "BZT     1\n",
       "MVD     1\n",
       "ZHA     1\n",
       "SGN     1\n",
       "KBM     1\n",
       "AIN     1\n",
       "AFJK    1\n",
       "AGRM    1\n",
       "XFE     1\n",
       "UDX     1\n",
       "HUU     1\n",
       "BWJ     1\n",
       "FQ      1\n",
       "ABPH    1\n",
       "XQU     1\n",
       "NFD     1\n",
       "NGS     1\n",
       "AHBW    1\n",
       "AAJR    1\n",
       "Name: v22, dtype: int64"
      ]
     },
     "execution_count": 21,
     "metadata": {},
     "output_type": "execute_result"
    }
   ],
   "source": [
    "### Look for bin point col v22\n",
    "data['v22'].value_counts()[0:50]"
   ]
  },
  {
   "cell_type": "markdown",
   "metadata": {},
   "source": [
    "Inspection of the first 50 the value counts for column `v22` shows a dropoff in value counts after the value `HUU` with a count of 146."
   ]
  },
  {
   "cell_type": "code",
   "execution_count": 22,
   "metadata": {
    "scrolled": true
   },
   "outputs": [
    {
     "data": {
      "text/plain": [
       "BW    16\n",
       "DI     7\n",
       "DX     6\n",
       "AS     6\n",
       "DP     5\n",
       "AW     5\n",
       "CY     4\n",
       "DS     4\n",
       "BZ     4\n",
       "CN     4\n",
       "AL     3\n",
       "BJ     3\n",
       "P      3\n",
       "BV     3\n",
       "N      2\n",
       "AF     2\n",
       "BQ     2\n",
       "DO     2\n",
       "U      2\n",
       "BL     2\n",
       "DY     2\n",
       "AG     2\n",
       "DF     1\n",
       "V      1\n",
       "DN     1\n",
       "AZ     1\n",
       "DL     1\n",
       "DH     1\n",
       "R      1\n",
       "Z      1\n",
       "DJ     1\n",
       "BM     1\n",
       "BU     1\n",
       "Name: v56, dtype: int64"
      ]
     },
     "execution_count": 22,
     "metadata": {},
     "output_type": "execute_result"
    }
   ],
   "source": [
    "### Look for bin point col v56\n",
    "data['v56'].value_counts()[0:50]"
   ]
  },
  {
   "cell_type": "markdown",
   "metadata": {},
   "source": [
    "A similar inspection of column `v56` shows a sharp dropoff after value `CF` woth 141 value counts. Based on the above, the next two code blocks will bin all categories with value counts below 140 for columns `v22` and `v56`."
   ]
  },
  {
   "cell_type": "code",
   "execution_count": 27,
   "metadata": {},
   "outputs": [],
   "source": [
    "#### Bin categorical colunm based on cutoff for minmum value count\n",
    "def bin_df_col(df, col, cutoff):\n",
    "    vc = df[col].value_counts().to_frame()\n",
    "    below_cutoff = vc[vc[col] < cutoff].index\n",
    "    df.loc[(df[col].isin(below_cutoff)), col] = 'Other'\n",
    "    \n",
    "    return df"
   ]
  },
  {
   "cell_type": "code",
   "execution_count": 28,
   "metadata": {},
   "outputs": [],
   "source": [
    "### Bin cols based on observations above\n",
    "data = bin_df_col(data, 'v22', 140)\n",
    "data = bin_df_col(data, 'v56', 140)"
   ]
  },
  {
   "cell_type": "markdown",
   "metadata": {},
   "source": [
    "The `bin_df_col()` function takes the 140 cutoff and sets all categories with a value counts below the cutoff to `Other`."
   ]
  },
  {
   "cell_type": "code",
   "execution_count": 29,
   "metadata": {},
   "outputs": [
    {
     "data": {
      "text/plain": [
       "(100, 269)"
      ]
     },
     "execution_count": 29,
     "metadata": {},
     "output_type": "execute_result"
    }
   ],
   "source": [
    "### One hot encode\n",
    "data_ohe = pd.get_dummies(data)\n",
    "data_ohe.shape"
   ]
  },
  {
   "cell_type": "markdown",
   "metadata": {},
   "source": [
    "After binning, the data is one hot encoded such that each of the categories for all categorical features are split into their own binary indicator variable. After one hot encoding, the final feature set consists of 453 features."
   ]
  },
  {
   "cell_type": "code",
   "execution_count": 41,
   "metadata": {},
   "outputs": [],
   "source": [
    "def run_clf_grid(data, clf_hyper_grid, return_best=False, boost_rounds=None, clf=None):\n",
    "    clf_scores = []\n",
    "\n",
    "    param, param_values = zip(*clf_hyper_grid.items())\n",
    "    param_list = [dict(zip(param, param_value)) for param_value in itertools.product(*param_values)]\n",
    "\n",
    "    for params in param_list:\n",
    "        if clf:\n",
    "            score = run_clf(clf, data, params)\n",
    "            clf_scores.append(score)\n",
    "        else:\n",
    "            for boost_round in boost_rounds:\n",
    "                score = run_xgb(data, params, boost_round)\n",
    "                clf_scores.append(score)\n",
    "\n",
    "    clf_scores.sort(key=lambda x: x['log_loss'])\n",
    "    if return_best:\n",
    "        clf_scores = [clf_scores[0]]\n",
    "\n",
    "    return clf_scores"
   ]
  },
  {
   "cell_type": "markdown",
   "metadata": {},
   "source": [
    "The `run_clf_grid()` above will be used to tune the hyperparamters of the models used to run the classification. The data is passed along with a dictionary of parameters to tune. The keys of the dictionary are the parameter name and the values are a list of parameter values to try. The itertools.product function is used to generate all possible combinations of parameters and the provided classifier is run using the `run_clf()` function with every parameter combination (if no classifier is provided, xgboost is used). The scores for each parameter combination are returned."
   ]
  },
  {
   "cell_type": "code",
   "execution_count": 42,
   "metadata": {},
   "outputs": [],
   "source": [
    "def run_clf(a_clf, data, clf_hyper):\n",
    "    M, L, n_folds = data # unpack data container\n",
    "    kf = KFold(n_splits=n_folds) # Establish the cross validation\n",
    "    scores = []\n",
    "\n",
    "    for ids, (train_index, test_index) in enumerate(kf.split(M, L)):\n",
    "        clf = a_clf(**clf_hyper) # unpack parameters into clf is they exist\n",
    "        clf.fit(M.iloc[train_index], L.iloc[train_index])\n",
    "\n",
    "        pred = clf.predict(M.iloc[test_index])\n",
    "        score_log_loss = log_loss(L.iloc[test_index], pred)\n",
    "        pred[pred<0.5] = 0\n",
    "        pred[pred>=0.5] = 1\n",
    "        score_acc = accuracy_score(L.iloc[test_index], pred)\n",
    "        scores.append((score_log_loss, score_acc))\n",
    "\n",
    "    ret = {\n",
    "        'clf': str(clf),\n",
    "        'log_loss': sum([score[0] for score in scores]) / float(len(scores)),\n",
    "        'accuracy': sum([score[1] for score in scores]) / float(len(scores))\n",
    "    }\n",
    "\n",
    "    return ret\n"
   ]
  },
  {
   "cell_type": "markdown",
   "metadata": {},
   "source": [
    "Above is the `run_clf()` called by `run_clf_grid()`. This funciton does k-fold cross validation, unpacks the hyperparamters provided, and passes them to the provided classifier. The classifier is fit on each train fold and the log loss is calculated between the predictions on the test fold and the target labels for each fold. These are averaged to provide the k-fold log loss. \n",
    "\n",
    "The formula for the log loss is LogLoss = - \\frac{1}{n} \\sum\\limits_{i=1}^n [y_i \\cdot log_e(\\hat{y_i}) + (1-y_i) \\cdot log_e(1-\\hat{y_i}) ]\n",
    "where y is the label of the target and smaller is better."
   ]
  },
  {
   "cell_type": "code",
   "execution_count": 43,
   "metadata": {},
   "outputs": [],
   "source": [
    "def run_xgb(data, clf_hyper, boost_round):\n",
    "    M, L, n_folds = data # unpack data container\n",
    "    kf = KFold(n_splits=n_folds) # Establish the cross validation\n",
    "    scores = []\n",
    "\n",
    "    for ids, (train_index, test_index) in enumerate(kf.split(M, L)):\n",
    "        xgtrain = xgb.DMatrix(M.iloc[train_index].values, L.iloc[train_index].values)\n",
    "        xgtest = xgb.DMatrix(M.iloc[test_index].values, L.iloc[test_index].values)\n",
    "        \n",
    "        clf = xgb.train(\n",
    "            clf_hyper,\n",
    "            xgtrain,\n",
    "            num_boost_round=boost_round,\n",
    "            verbose_eval=True,\n",
    "            maximize=False\n",
    "        )\n",
    "        \n",
    "        pred = clf.predict(xgtest, ntree_limit=clf.best_iteration)\n",
    "        score_log_loss = log_loss(L.iloc[test_index], pred)\n",
    "        pred[pred<0.5] = 0\n",
    "        pred[pred>=0.5] = 1\n",
    "        score_acc = accuracy_score(L.iloc[test_index], pred)\n",
    "        scores.append((score_log_loss, score_acc))\n",
    "\n",
    "    ret = {\n",
    "        'params': clf_hyper,\n",
    "        'boost_round': boost_round,\n",
    "        'log_loss': sum([score[0] for score in scores]) / float(len(scores)),\n",
    "        'accuracy': sum([score[1] for score in scores]) / float(len(scores))\n",
    "    }\n",
    "\n",
    "    return ret"
   ]
  },
  {
   "cell_type": "markdown",
   "metadata": {},
   "source": [
    "Above is the the same function for xgboost, which requires processing into its ow data type and has different syntax for fitting the model. We still do k-fold cross validation and average the log loss of the folds."
   ]
  },
  {
   "cell_type": "code",
   "execution_count": 44,
   "metadata": {},
   "outputs": [],
   "source": [
    "xgboost_hyper = { \n",
    "   \"objective\": [\"binary:logistic\"],\n",
    "   \"booster\": [\"gbtree\"],\n",
    "   \"eval_metric\": [\"logloss\"],\n",
    "   \"eta\": [0.001, 0.01, 0.1], \n",
    "   \"subsample\": [.25, .5],\n",
    "   \"colsample_bytree\": [0.25, 0.5],\n",
    "   \"max_depth\": [2,4]\n",
    "}\n",
    "clf_data = (data_ohe, target, 3)\n",
    "xgb_scores = run_clf_grid(clf_data, xgboost_hyper, boost_rounds=[30,60])"
   ]
  },
  {
   "cell_type": "code",
   "execution_count": 45,
   "metadata": {
    "scrolled": true
   },
   "outputs": [
    {
     "data": {
      "text/plain": [
       "{'params': {'objective': 'binary:logistic',\n",
       "  'booster': 'gbtree',\n",
       "  'eval_metric': 'logloss',\n",
       "  'eta': 0.1,\n",
       "  'subsample': 0.5,\n",
       "  'colsample_bytree': 0.5,\n",
       "  'max_depth': 2},\n",
       " 'boost_round': 30,\n",
       " 'log_loss': 0.5169844735199082,\n",
       " 'accuracy': 0.7290552584670231}"
      ]
     },
     "execution_count": 45,
     "metadata": {},
     "output_type": "execute_result"
    }
   ],
   "source": [
    "xgb_scores[0]"
   ]
  },
  {
   "cell_type": "markdown",
   "metadata": {},
   "source": [
    "Finally, XGBoost is run on the data with various parameters with 3 folds using `run_clf_grid()`. XGBoost is an optimized gradient boosting machine. Boosting is a technique where the residual of the model are iteratively run as the new targets of the model so that the model learns from the mistakes of previous iterations. \n",
    "\n",
    "Here XGBoost is run with a deciions tree and the parameters being tuned are:\n",
    "- `eta`: learning rate for how aggressively the boosting adjusts the model between iterations\n",
    "- `subsample`: the percent of the training data to subsample each iteration to avoid overfitting\n",
    "- `colsample_bytree`: the percent of columns that are condisered at each level of the tree\n",
    "- `max_depth`: the maximum depth of the decision tree\n",
    "- `boost_rounds`: how many iterations of boost the model will run\n",
    "\n",
    "Notably, the log loss the the XGBoost for a number of paramter sets is below 0.6."
   ]
  },
  {
   "cell_type": "code",
   "execution_count": 46,
   "metadata": {},
   "outputs": [],
   "source": [
    "r_clf = RandomForestClassifier\n",
    "r_clf_hyper_grid = {\n",
    "    'n_estimators': [10, 100],\n",
    "    'max_depth': [2, 4],\n",
    "    'max_features': [None, 'sqrt'],\n",
    "}\n",
    "rf_scores = run_clf_grid(clf_data, r_clf_hyper_grid, clf=r_clf)"
   ]
  },
  {
   "cell_type": "code",
   "execution_count": 47,
   "metadata": {
    "scrolled": true
   },
   "outputs": [
    {
     "data": {
      "text/plain": [
       "[{'clf': \"RandomForestClassifier(max_depth=4, max_features='sqrt', n_estimators=10)\",\n",
       "  'log_loss': 8.321923983894372,\n",
       "  'accuracy': 0.7590612002376709},\n",
       " {'clf': \"RandomForestClassifier(max_depth=2, max_features='sqrt')\",\n",
       "  'log_loss': 8.670808589877614,\n",
       "  'accuracy': 0.7489601901366606},\n",
       " {'clf': \"RandomForestClassifier(max_depth=4, max_features='sqrt')\",\n",
       "  'log_loss': 8.670808589877614,\n",
       "  'accuracy': 0.7489601901366606},\n",
       " {'clf': 'RandomForestClassifier(max_depth=2, max_features=None, n_estimators=10)',\n",
       "  'log_loss': 9.00939981450452,\n",
       "  'accuracy': 0.7391562685680334},\n",
       " {'clf': \"RandomForestClassifier(max_depth=2, max_features='sqrt', n_estimators=10)\",\n",
       "  'log_loss': 9.009424044729679,\n",
       "  'accuracy': 0.7391562685680332},\n",
       " {'clf': 'RandomForestClassifier(max_depth=2, max_features=None)',\n",
       "  'log_loss': 9.71743817760218,\n",
       "  'accuracy': 0.7186571598336303},\n",
       " {'clf': 'RandomForestClassifier(max_depth=4, max_features=None)',\n",
       "  'log_loss': 10.056029402229086,\n",
       "  'accuracy': 0.7088532382650029},\n",
       " {'clf': 'RandomForestClassifier(max_depth=4, max_features=None, n_estimators=10)',\n",
       "  'log_loss': 11.092389838822477,\n",
       "  'accuracy': 0.6788472964943554}]"
      ]
     },
     "execution_count": 47,
     "metadata": {},
     "output_type": "execute_result"
    }
   ],
   "source": [
    "rf_scores"
   ]
  },
  {
   "cell_type": "markdown",
   "metadata": {},
   "source": [
    "The next algorithm under considersation is the Random Forest Classifier. Random Forests are also tree base, however they are built in parallel. A number of different decision trees are built using subset of the data and new data is fed to the resulting set of trees and they vote on the new classification.\n",
    "\n",
    "The hyper parameters being tuned are the number of trees, the max depth of the trees, and the number of features considered when looking for a split. \n",
    "\n",
    "The log loss for random forest is consistently in the 7.7-8.25, quite a bit worse than XGBoost above."
   ]
  },
  {
   "cell_type": "code",
   "execution_count": null,
   "metadata": {},
   "outputs": [],
   "source": []
  },
  {
   "cell_type": "code",
   "execution_count": 16,
   "metadata": {},
   "outputs": [
    {
     "name": "stderr",
     "output_type": "stream",
     "text": [
      "/opt/anaconda3/envs/msds_rpy37/lib/python3.7/site-packages/sklearn/svm/_base.py:977: ConvergenceWarning: Liblinear failed to converge, increase the number of iterations.\n",
      "  \"the number of iterations.\", ConvergenceWarning)\n",
      "/opt/anaconda3/envs/msds_rpy37/lib/python3.7/site-packages/sklearn/svm/_base.py:977: ConvergenceWarning: Liblinear failed to converge, increase the number of iterations.\n",
      "  \"the number of iterations.\", ConvergenceWarning)\n",
      "/opt/anaconda3/envs/msds_rpy37/lib/python3.7/site-packages/sklearn/svm/_base.py:977: ConvergenceWarning: Liblinear failed to converge, increase the number of iterations.\n",
      "  \"the number of iterations.\", ConvergenceWarning)\n",
      "/opt/anaconda3/envs/msds_rpy37/lib/python3.7/site-packages/sklearn/svm/_base.py:977: ConvergenceWarning: Liblinear failed to converge, increase the number of iterations.\n",
      "  \"the number of iterations.\", ConvergenceWarning)\n",
      "/opt/anaconda3/envs/msds_rpy37/lib/python3.7/site-packages/sklearn/svm/_base.py:977: ConvergenceWarning: Liblinear failed to converge, increase the number of iterations.\n",
      "  \"the number of iterations.\", ConvergenceWarning)\n",
      "/opt/anaconda3/envs/msds_rpy37/lib/python3.7/site-packages/sklearn/svm/_base.py:977: ConvergenceWarning: Liblinear failed to converge, increase the number of iterations.\n",
      "  \"the number of iterations.\", ConvergenceWarning)\n",
      "/opt/anaconda3/envs/msds_rpy37/lib/python3.7/site-packages/sklearn/svm/_base.py:977: ConvergenceWarning: Liblinear failed to converge, increase the number of iterations.\n",
      "  \"the number of iterations.\", ConvergenceWarning)\n",
      "/opt/anaconda3/envs/msds_rpy37/lib/python3.7/site-packages/sklearn/svm/_base.py:977: ConvergenceWarning: Liblinear failed to converge, increase the number of iterations.\n",
      "  \"the number of iterations.\", ConvergenceWarning)\n",
      "/opt/anaconda3/envs/msds_rpy37/lib/python3.7/site-packages/sklearn/svm/_base.py:977: ConvergenceWarning: Liblinear failed to converge, increase the number of iterations.\n",
      "  \"the number of iterations.\", ConvergenceWarning)\n",
      "/opt/anaconda3/envs/msds_rpy37/lib/python3.7/site-packages/sklearn/svm/_base.py:977: ConvergenceWarning: Liblinear failed to converge, increase the number of iterations.\n",
      "  \"the number of iterations.\", ConvergenceWarning)\n",
      "/opt/anaconda3/envs/msds_rpy37/lib/python3.7/site-packages/sklearn/svm/_base.py:977: ConvergenceWarning: Liblinear failed to converge, increase the number of iterations.\n",
      "  \"the number of iterations.\", ConvergenceWarning)\n",
      "/opt/anaconda3/envs/msds_rpy37/lib/python3.7/site-packages/sklearn/svm/_base.py:977: ConvergenceWarning: Liblinear failed to converge, increase the number of iterations.\n",
      "  \"the number of iterations.\", ConvergenceWarning)\n",
      "/opt/anaconda3/envs/msds_rpy37/lib/python3.7/site-packages/sklearn/svm/_base.py:977: ConvergenceWarning: Liblinear failed to converge, increase the number of iterations.\n",
      "  \"the number of iterations.\", ConvergenceWarning)\n",
      "/opt/anaconda3/envs/msds_rpy37/lib/python3.7/site-packages/sklearn/svm/_base.py:977: ConvergenceWarning: Liblinear failed to converge, increase the number of iterations.\n",
      "  \"the number of iterations.\", ConvergenceWarning)\n",
      "/opt/anaconda3/envs/msds_rpy37/lib/python3.7/site-packages/sklearn/svm/_base.py:977: ConvergenceWarning: Liblinear failed to converge, increase the number of iterations.\n",
      "  \"the number of iterations.\", ConvergenceWarning)\n",
      "/opt/anaconda3/envs/msds_rpy37/lib/python3.7/site-packages/sklearn/svm/_base.py:977: ConvergenceWarning: Liblinear failed to converge, increase the number of iterations.\n",
      "  \"the number of iterations.\", ConvergenceWarning)\n",
      "/opt/anaconda3/envs/msds_rpy37/lib/python3.7/site-packages/sklearn/svm/_base.py:977: ConvergenceWarning: Liblinear failed to converge, increase the number of iterations.\n",
      "  \"the number of iterations.\", ConvergenceWarning)\n",
      "/opt/anaconda3/envs/msds_rpy37/lib/python3.7/site-packages/sklearn/svm/_base.py:977: ConvergenceWarning: Liblinear failed to converge, increase the number of iterations.\n",
      "  \"the number of iterations.\", ConvergenceWarning)\n",
      "/opt/anaconda3/envs/msds_rpy37/lib/python3.7/site-packages/sklearn/svm/_base.py:977: ConvergenceWarning: Liblinear failed to converge, increase the number of iterations.\n",
      "  \"the number of iterations.\", ConvergenceWarning)\n",
      "/opt/anaconda3/envs/msds_rpy37/lib/python3.7/site-packages/sklearn/svm/_base.py:977: ConvergenceWarning: Liblinear failed to converge, increase the number of iterations.\n",
      "  \"the number of iterations.\", ConvergenceWarning)\n",
      "/opt/anaconda3/envs/msds_rpy37/lib/python3.7/site-packages/sklearn/svm/_base.py:977: ConvergenceWarning: Liblinear failed to converge, increase the number of iterations.\n",
      "  \"the number of iterations.\", ConvergenceWarning)\n",
      "/opt/anaconda3/envs/msds_rpy37/lib/python3.7/site-packages/sklearn/svm/_base.py:977: ConvergenceWarning: Liblinear failed to converge, increase the number of iterations.\n",
      "  \"the number of iterations.\", ConvergenceWarning)\n",
      "/opt/anaconda3/envs/msds_rpy37/lib/python3.7/site-packages/sklearn/svm/_base.py:977: ConvergenceWarning: Liblinear failed to converge, increase the number of iterations.\n",
      "  \"the number of iterations.\", ConvergenceWarning)\n",
      "/opt/anaconda3/envs/msds_rpy37/lib/python3.7/site-packages/sklearn/svm/_base.py:977: ConvergenceWarning: Liblinear failed to converge, increase the number of iterations.\n",
      "  \"the number of iterations.\", ConvergenceWarning)\n",
      "/opt/anaconda3/envs/msds_rpy37/lib/python3.7/site-packages/sklearn/svm/_base.py:977: ConvergenceWarning: Liblinear failed to converge, increase the number of iterations.\n",
      "  \"the number of iterations.\", ConvergenceWarning)\n",
      "/opt/anaconda3/envs/msds_rpy37/lib/python3.7/site-packages/sklearn/svm/_base.py:977: ConvergenceWarning: Liblinear failed to converge, increase the number of iterations.\n",
      "  \"the number of iterations.\", ConvergenceWarning)\n",
      "/opt/anaconda3/envs/msds_rpy37/lib/python3.7/site-packages/sklearn/svm/_base.py:977: ConvergenceWarning: Liblinear failed to converge, increase the number of iterations.\n",
      "  \"the number of iterations.\", ConvergenceWarning)\n"
     ]
    }
   ],
   "source": [
    "svc_clf = LinearSVC\n",
    "svc_clf_hyper_grid = {\n",
    "    'C': [0.1, 1, 10],\n",
    "    'tol': [0.01, 0.0001, 0.00001],\n",
    "    'max_iter': [5000]\n",
    "}\n",
    "svc_scores = run_clf_grid(clf_data, svc_clf_hyper_grid, clf=svc_clf)"
   ]
  },
  {
   "cell_type": "code",
   "execution_count": 17,
   "metadata": {},
   "outputs": [
    {
     "data": {
      "text/plain": [
       "[{'clf': 'LinearSVC(C=0.1, max_iter=5000)', 'score': 7.920575587348921},\n",
       " {'clf': 'LinearSVC(C=0.1, max_iter=5000, tol=0.01)',\n",
       "  'score': 7.922086031547568},\n",
       " {'clf': 'LinearSVC(C=0.1, max_iter=5000, tol=1e-05)',\n",
       "  'score': 7.92450426562787},\n",
       " {'clf': 'LinearSVC(C=1, max_iter=5000)', 'score': 8.229649398992613},\n",
       " {'clf': 'LinearSVC(C=10, max_iter=5000, tol=0.01)',\n",
       "  'score': 8.324511627323252},\n",
       " {'clf': 'LinearSVC(C=1, max_iter=5000, tol=0.01)',\n",
       "  'score': 12.211253542686412},\n",
       " {'clf': 'LinearSVC(C=1, max_iter=5000, tol=1e-05)',\n",
       "  'score': 12.872297181102917},\n",
       " {'clf': 'LinearSVC(C=10, max_iter=5000, tol=1e-05)',\n",
       "  'score': 13.447533730494486},\n",
       " {'clf': 'LinearSVC(C=10, max_iter=5000)', 'score': 14.099811809806676}]"
      ]
     },
     "execution_count": 17,
     "metadata": {},
     "output_type": "execute_result"
    }
   ],
   "source": [
    "svc_scores"
   ]
  },
  {
   "cell_type": "markdown",
   "metadata": {},
   "source": [
    "Finally, the linear SVC is run. This is the linear version of SVM where linear boundaries seperate the data based on the seperation with the largest margin. The performance in terms of log loss was similar to random forest, but XGBoost was much better."
   ]
  },
  {
   "cell_type": "code",
   "execution_count": 10,
   "metadata": {},
   "outputs": [],
   "source": [
    "X_train, X_test, y_train, y_test = train_test_split(data_ohe, target, test_size=0.33, random_state=42)\n",
    "xgtrain = xgb.DMatrix(X_train.values, y_train.values)\n",
    "xgtest = xgb.DMatrix(X_test.values, y_test.values)"
   ]
  },
  {
   "cell_type": "code",
   "execution_count": 18,
   "metadata": {},
   "outputs": [
    {
     "name": "stdout",
     "output_type": "stream",
     "text": [
      "Fit the model...\n"
     ]
    }
   ],
   "source": [
    "print('Fit the model...')\n",
    "# XGBoost params:\n",
    "xgboost_params = { \n",
    "   \"objective\": \"binary:logistic\",\n",
    "   \"booster\": \"gbtree\",\n",
    "   \"eval_metric\": \"logloss\",\n",
    "   \"eta\": 0.01, \n",
    "   \"subsample\": 0.5,\n",
    "   \"colsample_bytree\": 0.5,\n",
    "   \"max_depth\": 3\n",
    "}\n",
    "boost_round = 50\n",
    "clf = xgb.train(xgboost_params,xgtrain,num_boost_round=boost_round,verbose_eval=True,maximize=False)"
   ]
  },
  {
   "cell_type": "code",
   "execution_count": 19,
   "metadata": {},
   "outputs": [
    {
     "name": "stdout",
     "output_type": "stream",
     "text": [
      "Predict...\n",
      "0.5840175097972852\n",
      "0.7726501616922017\n"
     ]
    }
   ],
   "source": [
    "#Make predict\n",
    "print('Predict...')\n",
    "test_preds = clf.predict(xgtest, ntree_limit=clf.best_iteration)\n",
    "print(log_loss(y_test,test_preds))\n",
    "print(accuracy_score(y_test,np.rint(test_preds)))"
   ]
  },
  {
   "cell_type": "code",
   "execution_count": null,
   "metadata": {},
   "outputs": [],
   "source": []
  },
  {
   "cell_type": "code",
   "execution_count": null,
   "metadata": {},
   "outputs": [],
   "source": []
  },
  {
   "cell_type": "code",
   "execution_count": null,
   "metadata": {},
   "outputs": [],
   "source": []
  },
  {
   "cell_type": "code",
   "execution_count": null,
   "metadata": {},
   "outputs": [],
   "source": []
  }
 ],
 "metadata": {
  "kernelspec": {
   "display_name": "Python 3",
   "language": "python",
   "name": "python3"
  },
  "language_info": {
   "codemirror_mode": {
    "name": "ipython",
    "version": 3
   },
   "file_extension": ".py",
   "mimetype": "text/x-python",
   "name": "python",
   "nbconvert_exporter": "python",
   "pygments_lexer": "ipython3",
   "version": "3.7.7"
  }
 },
 "nbformat": 4,
 "nbformat_minor": 4
}
